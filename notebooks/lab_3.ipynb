{
 "cells": [
  {
   "cell_type": "markdown",
   "id": "8eeeb7d2",
   "metadata": {},
   "source": [
    "# Lab 3: Time Series Forecasting for BTC Hourly Data\n",
    "\n",
    "This notebook performs the tasks outlined in Lab 3:\n",
    "1.  **Choose Forecasting Methods**: Based on Lab 2 insights, we select SARIMA, Prophet, and ETS.\n",
    "2.  **Check for Heteroscedasticity**: Analyze residuals for non-constant variance.\n",
    "3.  **Build Models & Check Quality**: Fit models on a training set and evaluate in-sample performance.\n",
    "4.  **Generate Forecasts & Check Quality**: Predict on a test set and evaluate out-of-sample performance.\n",
    "5.  **Tabulate Statistical Characteristics**.\n",
    "6.  **Display Intermediate Graphs**."
   ]
  }
 ],
 "metadata": {
  "language_info": {
   "name": "python"
  }
 },
 "nbformat": 4,
 "nbformat_minor": 5
}
